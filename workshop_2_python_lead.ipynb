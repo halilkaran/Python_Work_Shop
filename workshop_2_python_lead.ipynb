{
  "cells": [
    {
      "cell_type": "markdown",
      "id": "cec2380e",
      "metadata": {
        "id": "cec2380e"
      },
      "source": [
        "### Code Challenge -1\n",
        "\n",
        "<div class=\"alert alert-block alert-info\">\n",
        "    <b>💡Objective:</b>\n",
        "    <ul>\n",
        "        <li>To improve your <b>boolean logic</b> and <b>arithmetic operator algorithm</b>&nbsp;skills.</li>\n",
        "    </ul>\n",
        "</div>\n",
        "\n",
        "- Using the all following items once each, set a correct boolean expression that returns `write me`. Use the `print()` function to display the result.\n",
        "\n",
        "```python\n",
        "0\n",
        "and\n",
        "not\n",
        "\"write me\"\n",
        "```"
      ]
    },
    {
      "cell_type": "markdown",
      "id": "bd5961ea",
      "metadata": {
        "id": "bd5961ea"
      },
      "source": [
        "### Solution - 1"
      ]
    },
    {
      "cell_type": "code",
      "execution_count": 1,
      "id": "f591cc23",
      "metadata": {
        "id": "f591cc23"
      },
      "outputs": [
        {
          "name": "stdout",
          "output_type": "stream",
          "text": [
            "write me\n"
          ]
        }
      ],
      "source": [
        "print(not 0 and \"write me\")"
      ]
    },
    {
      "cell_type": "markdown",
      "id": "ff55f195",
      "metadata": {
        "id": "ff55f195"
      },
      "source": [
        "### Code Challenge-2\n",
        "\n",
        "<div class=\"alert alert-block alert-info\">\n",
        "    <b>💡Objective:</b>\n",
        "    <ul>\n",
        "        <li>To improve your <b>boolean logic algorithm</b>&nbsp;and truth value skills.</li>\n",
        "    </ul>\n",
        "</div>\n",
        "\n",
        "- Find out if a given year is a \"leap\" year.\n",
        "\n",
        "  - In the Gregorian calendar, three criteria must be taken into account to identify leap years:\n",
        "  \n",
        "    - The year must be evenly divisible by 4;\n",
        "    - If the year can also be evenly divided by 100, it is not a leap year; unless...(next one)\n",
        "    - The year is also evenly divisible by 400. Then it is a leap year.\n",
        "\n",
        "- According to these rules, the years 2000 and 2400 are leap years, while 1800, 1900, 2100, 2200, 2300, and 2500 are not the leap years.\n",
        "\n",
        "- Write a Python program that;\n",
        "  - Takes a 4-digit year from the user,\n",
        "  - Prints `True` if the given year by the user is a leap year, prints `False` otherwise.\n",
        "  \n",
        "> Note that; this question is famous on the web, so that do it yourself to get more benefits from it."
      ]
    },
    {
      "cell_type": "markdown",
      "id": "55bc3ee3",
      "metadata": {
        "id": "55bc3ee3"
      },
      "source": [
        "### Solution-2"
      ]
    },
    {
      "cell_type": "code",
      "execution_count": 2,
      "id": "2f651282",
      "metadata": {
        "id": "2f651282"
      },
      "outputs": [
        {
          "name": "stdout",
          "output_type": "stream",
          "text": [
            "False\n"
          ]
        }
      ],
      "source": [
        "year = int(input(\"enter the year to check: \"))\n",
        "print(year % 400 == 0 or year%4==0 and year%100!=0)"
      ]
    },
    {
      "cell_type": "markdown",
      "id": "22a552e5",
      "metadata": {
        "id": "22a552e5"
      },
      "source": [
        "### Code Challenge-3\n",
        "\n",
        "<p></p>\n",
        "<div class=\"alert alert-block alert-info\">\n",
        "    <b>💡Objective:</b>\n",
        "    <ul>\n",
        "        <li>To improve your <b>collection </b>type <b>knowledge, </b>using<b> </b><span>new </span><span>built-in<b> function comprehension, string formatting</b></span>&nbsp;and <b>problem solving</b> skills.</li>\n",
        "    </ul>\n",
        "</div>\n",
        "\n",
        "<b>Task - 1 :</b><br>You work for a manufacturer as a programmer and\n",
        "have been asked to calculate the\n",
        "<b>total profit</b> made on the sales of a product. You are given a dictionary (<code>sales</code>) containing the <span><i>cost </i>price</span><span> </span>per unit (in dollars), <span><i>sell </i>price</span><span> </span>per unit (in dollars), and\n",
        "the <span><span>beginning</span></span><i> inventory</i>. Write a program to return the <b>total profit&nbsp;</b>made, <b>rounded&nbsp;</b>to the nearest dollar. Assume all of the <i>inventory</i> has been sold. The <i>name</i> and the <i>keys</i> of\n",
        "the dictionary are constant, so use them as they are.<br>\n",
        "<hr>\n",
        "\n",
        "\n",
        "<p>The example of the <i>values</i> (<i>sell</i>-<i>cost </i>value,&nbsp;<i>inventory</i>) and total <i>profit </i>:</p>\n",
        "\n",
        "```python\n",
        "sales = {\n",
        "  \"cost_value\": 31.87,\n",
        "  \"sell_value\": 45.00,\n",
        "  \"inventory\": 1000\n",
        "}  \n",
        "\n",
        "# the profit will be : 13130\n",
        "````\n",
        "\n",
        "<hr>\n",
        "<p><b>Task - 2 :</b><br>Your boss wants you to prepare the <b>payrolls</b> of the workers in your department. You have to convert the amount of dollars into <i>payroll </i>format. In order to help move things along, you have volunteered to write a code that\n",
        "    will take a float and return the money in the following format (as <i>dollars</i> and <i>cents</i>).&nbsp;</p>\n",
        "<p><br>\n",
        "</p>\n",
        "\n",
        "- Examples :\n",
        "\n",
        "|Given Float Type `amount`|Desired Output|\n",
        "|--|--|\n",
        "|3|\\$3.00|\n",
        "|29.99|\\$29.99|\n",
        "|4.1|\\$4.10|\n",
        "\n",
        "The output should be float type as well and two digits after the period.<br><br>\n",
        "<p></p>"
      ]
    },
    {
      "cell_type": "markdown",
      "id": "98cd2f0e",
      "metadata": {
        "id": "98cd2f0e"
      },
      "source": [
        "### Solution-3"
      ]
    },
    {
      "cell_type": "code",
      "execution_count": 20,
      "id": "576823cc",
      "metadata": {
        "id": "576823cc"
      },
      "outputs": [
        {
          "name": "stdout",
          "output_type": "stream",
          "text": [
            "13130\n"
          ]
        }
      ],
      "source": [
        "# Task-1\n",
        "\n",
        "sales = {\n",
        "  \"cost_value\": 31.87,\n",
        "  \"sell_value\": 45.00,\n",
        "  \"inventory\": 1000\n",
        "}  \n",
        "\n",
        "print(round((sales[\"sell_value\"] - sales[\"cost_value\"]) * sales[\"inventory\"]))"
      ]
    },
    {
      "cell_type": "code",
      "execution_count": 28,
      "metadata": {},
      "outputs": [
        {
          "ename": "AttributeError",
          "evalue": "'str' object has no attribute 'sort'",
          "output_type": "error",
          "traceback": [
            "\u001b[1;31m---------------------------------------------------------------------------\u001b[0m",
            "\u001b[1;31mAttributeError\u001b[0m                            Traceback (most recent call last)",
            "\u001b[1;32m~\\AppData\\Local\\Temp/ipykernel_20312/3943709998.py\u001b[0m in \u001b[0;36m<module>\u001b[1;34m\u001b[0m\n\u001b[0;32m     15\u001b[0m \u001b[1;31m# kutuphane[\"yer_1\"]=\"ankara\"\u001b[0m\u001b[1;33m\u001b[0m\u001b[1;33m\u001b[0m\u001b[0m\n\u001b[0;32m     16\u001b[0m \u001b[1;31m# kutuphane[\"yer_2\"] = \"istanbul\"\u001b[0m\u001b[1;33m\u001b[0m\u001b[1;33m\u001b[0m\u001b[0m\n\u001b[1;32m---> 17\u001b[1;33m \u001b[0mkutuphane\u001b[0m\u001b[1;33m[\u001b[0m\u001b[1;34m\"ad\"\u001b[0m\u001b[1;33m.\u001b[0m\u001b[0msort\u001b[0m\u001b[1;33m(\u001b[0m\u001b[1;33m)\u001b[0m\u001b[1;33m]\u001b[0m\u001b[1;33m\u001b[0m\u001b[1;33m\u001b[0m\u001b[0m\n\u001b[0m\u001b[0;32m     18\u001b[0m \u001b[1;33m\u001b[0m\u001b[0m\n",
            "\u001b[1;31mAttributeError\u001b[0m: 'str' object has no attribute 'sort'"
          ]
        }
      ],
      "source": [
        "kutuphane= {\n",
        "    \"ad\":{ \"ad_1\":\"ahmet\",\n",
        "    \"tc_1\":222,\n",
        "    \"yas_1\":32,\n",
        "    },\n",
        "    \"ad_2\":\"mehmet\",\n",
        "    \"tc_no_2\": 23324423432,\n",
        "    \"yas_2\": 32.5\n",
        "}\n",
        "# print(kutuphane[\"ad_1\"], kutuphane[\"yas_1\"])\n",
        "# kutuphane[\"ad_2\"]=\"Ali\"\n",
        "# kutuphane[\"ad_2\"]\n",
        "# print(kutuphane)\n",
        "# len(kutuphane)\n",
        "# kutuphane[\"yer_1\"]=\"ankara\"\n",
        "# kutuphane[\"yer_2\"] = \"istanbul\"\n",
        "kutuphane[\"ad\"]\n",
        "\n"
      ]
    },
    {
      "cell_type": "code",
      "execution_count": 29,
      "id": "63fb6f4b",
      "metadata": {
        "id": "63fb6f4b"
      },
      "outputs": [
        {
          "name": "stdout",
          "output_type": "stream",
          "text": [
            "34.00\n"
          ]
        }
      ],
      "source": [
        "# Task-2\n",
        "money = float(input(\"what is the payroll: \"))\n",
        "print(\"{:.2f}\".format(money))\n"
      ]
    },
    {
      "cell_type": "code",
      "execution_count": 46,
      "metadata": {},
      "outputs": [
        {
          "name": "stdout",
          "output_type": "stream",
          "text": [
            "1st\n",
            "2nd\n",
            "3rd\n",
            "4th\n",
            "5th\n",
            "6th\n",
            "7th\n",
            "8th\n",
            "9th\n",
            "10th\n",
            "11th\n",
            "12th\n",
            "13th\n",
            "14th\n",
            "15th\n",
            "16th\n",
            "17th\n",
            "18th\n",
            "19th\n",
            "20th\n",
            "21st\n",
            "22nd\n",
            "23rd\n",
            "24th\n",
            "25th\n",
            "26th\n",
            "27th\n",
            "28th\n",
            "29th\n",
            "30th\n",
            "31st\n",
            "32nd\n",
            "33rd\n",
            "34th\n",
            "35th\n",
            "36th\n",
            "37th\n",
            "38th\n",
            "39th\n",
            "40th\n",
            "41st\n",
            "42nd\n",
            "43rd\n",
            "44th\n",
            "45th\n",
            "46th\n",
            "47th\n",
            "48th\n",
            "49th\n",
            "50th\n",
            "51st\n",
            "52nd\n",
            "53rd\n",
            "54th\n",
            "55th\n",
            "56th\n",
            "57th\n",
            "58th\n",
            "59th\n",
            "60th\n",
            "61st\n",
            "62nd\n",
            "63rd\n",
            "64th\n",
            "65th\n",
            "66th\n",
            "67th\n",
            "68th\n",
            "69th\n",
            "70th\n",
            "71st\n",
            "72nd\n",
            "73rd\n",
            "74th\n",
            "75th\n",
            "76th\n",
            "77th\n",
            "78th\n",
            "79th\n",
            "80th\n",
            "81st\n",
            "82nd\n",
            "83rd\n",
            "84th\n",
            "85th\n",
            "86th\n",
            "87th\n",
            "88th\n"
          ]
        }
      ],
      "source": [
        "x=input(\"sayi gir\")\n",
        "y=int(x)\n",
        "for i in range(1,y+1):\n",
        " \n",
        "    print(\"{}{}\".format(i, (i == 13 and \"th\") or (i == 12 and \"th\") or (i == 11 and \"th\") or (i % 10 == 1 and \"st\")\n",
        "    or (i%10 == 2 and \"nd\") \\\n",
        "        or (i%10 == 3 and \"rd\") \\\n",
        "        or (i%10 >= 10 and \"th\") or (i)>= 4 and \"th\"))\n",
        "\n"
      ]
    },
    {
      "cell_type": "code",
      "execution_count": null,
      "metadata": {},
      "outputs": [],
      "source": []
    }
  ],
  "metadata": {
    "colab": {
      "collapsed_sections": [],
      "name": "workshop-2-python-student-version.ipynb",
      "provenance": [],
      "toc_visible": true
    },
    "interpreter": {
      "hash": "a568b988ef59356f541e1651d71651afaaa30954598b2be60c6c7b4eea9fbfac"
    },
    "kernelspec": {
      "display_name": "Python 3.10.0 64-bit",
      "name": "python3"
    },
    "language_info": {
      "codemirror_mode": {
        "name": "ipython",
        "version": 3
      },
      "file_extension": ".py",
      "mimetype": "text/x-python",
      "name": "python",
      "nbconvert_exporter": "python",
      "pygments_lexer": "ipython3",
      "version": "3.10.0"
    }
  },
  "nbformat": 4,
  "nbformat_minor": 5
}
