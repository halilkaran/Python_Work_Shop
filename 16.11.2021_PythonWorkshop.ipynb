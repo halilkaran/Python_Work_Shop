{
 "cells": [
  {
   "cell_type": "markdown",
   "metadata": {},
   "source": [
    "SORU-1: Kullanıcının belirleyeceği \"n\" adet sayının tek tek girilmesini sağlayarak, bu sayıların toplamını bulan python kodunu yazınız.\n",
    "\n",
    "* For döngüsü kullanılmalıdır"
   ]
  },
  {
   "cell_type": "code",
   "execution_count": null,
   "metadata": {},
   "outputs": [],
   "source": [
    "n = int(input(\"Kaç adet sayı girmek istersin : \"))\n",
    "i = 0\n",
    "\n"
   ]
  },
  {
   "cell_type": "markdown",
   "metadata": {},
   "source": [
    "SORU-2: Kullanıcıdan alınan dört kenar uzunluğuna göre şeklin kare, dikdörtgen veya diğer dörtgenlerden biri olduğunu belirten python kodunu yazınız.\n",
    "\n",
    "* if-elif-else statement kullanılmalıdır"
   ]
  },
  {
   "cell_type": "code",
   "execution_count": null,
   "metadata": {},
   "outputs": [],
   "source": []
  },
  {
   "cell_type": "markdown",
   "metadata": {},
   "source": [
    "SORU-3: Kullanıcının belirleyeceği satır sayısı (n) kadar, \"*\" işaretiyle piramit oluşturan python kodunu yazınız.\n",
    "\n",
    "* For döngüsü kullanılmalıdır\n"
   ]
  },
  {
   "cell_type": "code",
   "execution_count": 1,
   "metadata": {},
   "outputs": [
    {
     "name": "stdout",
     "output_type": "stream",
     "text": [
      "        *\n",
      "      * * *\n",
      "    * * * * *\n",
      "  * * * * * * *\n",
      "* * * * * * * * *\n"
     ]
    }
   ],
   "source": [
    "satir_sayisi =int(input(\"satir sayisi\"))\n",
    "en_son_satirdaki_yildiz_sayisi = satir_sayisi + (satir_sayisi-1)\n",
    "for i in range(0, satir_sayisi):\n",
    "    print(*\" \"*(en_son_satirdaki_yildiz_sayisi//2 - i) + \"*\"*(2*i+1))\n"
   ]
  },
  {
   "cell_type": "markdown",
   "metadata": {},
   "source": [
    "SORU-4: Kullanıcının yarıçap değerini girdiği bir dairenin, alan ve çevresini hesaplayan python kodunu yazınız.\n",
    "\n",
    "* Fonksiyon tanımlanmalıdır"
   ]
  },
  {
   "cell_type": "code",
   "execution_count": 7,
   "metadata": {},
   "outputs": [
    {
     "name": "stdout",
     "output_type": "stream",
     "text": [
      "25\n",
      "50\n"
     ]
    }
   ],
   "source": [
    "r = int(input(\"Dairenin yarıçapını gir : \"))\n",
    "pi = 3.14\n",
    "print(int(2*pi*r))\n",
    "print(int(pi*r**2))\n"
   ]
  },
  {
   "cell_type": "markdown",
   "metadata": {},
   "source": [
    "SORU-5: Kullanıcının girdiği 2 sayı arasındaki çift sayıların ortalamasını bulan python kodunu yazınız.\n",
    "\n",
    "* map() fonksiyonu kullanılmalı ve\n",
    "* Fonksiyon tanımlanmalıdır"
   ]
  },
  {
   "cell_type": "code",
   "execution_count": null,
   "metadata": {},
   "outputs": [],
   "source": []
  },
  {
   "cell_type": "code",
   "execution_count": 48,
   "metadata": {},
   "outputs": [
    {
     "name": "stdout",
     "output_type": "stream",
     "text": [
      "[1, 2, 3, 4, 5, 6, 7, 8, 9, 10, 11, 12, 13, 14, 15, 16, 17, 18, 19, 20, 21, 22, 23, 24, 25]\n",
      "13\n"
     ]
    }
   ],
   "source": [
    "ilk_sayi = int(input(\"birinci sayıyı gir:\"))\n",
    "ikinci_sayi = int(input(\"ikinci sayıyı gir:\"))\n",
    "liste = []\n",
    "if ilk_sayi > ikinci_sayi:\n",
    "    ilk_sayi, ikinci_sayi = ikinci_sayi, ilk_sayi\n",
    "for i in range(ilk_sayi,ikinci_sayi +1):\n",
    "    liste.append(i)\n",
    "print(liste)\n",
    "toplam = 0\n",
    "cift_sayilar = 0\n",
    "for i in range(0,len(liste)):\n",
    "    if liste[i] % 2 == 0 :\n",
    "        toplam += liste[i] \n",
    "        cift_sayilar += 1 \n",
    "print(toplam//cift_sayilar)  \n"
   ]
  },
  {
   "cell_type": "markdown",
   "metadata": {},
   "source": [
    "**SORU-6:** x listesi içinde verilen sayıları birbiriyle çarpan python kodunu yazınız.\n",
    "\n",
    "x = [1, 2, 3, 4, 5]\n",
    "\n",
    "* Fonksiyon tanımlanmalıdır"
   ]
  },
  {
   "cell_type": "code",
   "execution_count": 44,
   "metadata": {},
   "outputs": [
    {
     "data": {
      "text/plain": [
       "120"
      ]
     },
     "execution_count": 44,
     "metadata": {},
     "output_type": "execute_result"
    }
   ],
   "source": [
    "x = [1, 2, 3, 4, 5]\n",
    "\n",
    "carpım = 1\n",
    "for i in range(len(x)) :\n",
    "    carpım *= x[i] \n",
    "carpım\n"
   ]
  },
  {
   "cell_type": "markdown",
   "metadata": {},
   "source": [
    "**SORU-7:** Tanımlanan bir liste içinde aranan değerin kaç tane olduğunu bulan Python kodunu yazınız.\n",
    "\n",
    "x = [1, 3, 8, 6, 8, 10, 20, 6, 22, 14, 10, 8, 13, 7, 8] \n",
    "\n",
    "Output = 8 elemanı dizi içinde 4 adet bulunmaktadır\n",
    "\n",
    "* Fonksiyon tanımlanmalıdır"
   ]
  },
  {
   "cell_type": "code",
   "execution_count": 41,
   "metadata": {},
   "outputs": [
    {
     "name": "stdout",
     "output_type": "stream",
     "text": [
      "8 elemanı dizi içinde 4 adet bulunmaktadır.\n"
     ]
    }
   ],
   "source": [
    "\n",
    "x = [1, 3, 8, 6, 8, 10, 20, 6, 22, 14, 10, 8, 13, 7, 8]\n",
    "aranan_deger = int(input(\"Aranan degeri gir : \"))\n",
    "liste1=[]\n",
    "adet = 0\n",
    "for i in range(len(x)) :\n",
    "    if aranan_deger == x[i] :\n",
    "        adet += 1\n",
    "print(f\"{aranan_deger} elemanı dizi içinde {adet} adet bulunmaktadır.\")"
   ]
  },
  {
   "cell_type": "markdown",
   "metadata": {},
   "source": [
    "**SORU-8:** Kullanıcıdan oluşturduğu listedeki herhangi iki elamanın yerini değiştiren python kodunu yazınız.\n",
    "\n",
    "* map() fonksiyonu kullanılmalı ve\n",
    "* Fonksiyon tanımlanmalıdır"
   ]
  },
  {
   "cell_type": "code",
   "execution_count": 1,
   "metadata": {},
   "outputs": [
    {
     "name": "stdout",
     "output_type": "stream",
     "text": [
      "['36', '3', '2', '55', '98']\n"
     ]
    }
   ],
   "source": [
    "liste_el_say = int(input(\"Listenin uzunluğu kaç olmalı : \"))\n",
    "listem = []\n",
    "\n",
    "for i in range(liste_el_say) :\n",
    "    a = input(\"Listeye eleman gir : \")\n",
    "    listem.append(a)\n",
    "print(listem)\n",
    "\n",
    "\n",
    "\n",
    "\n"
   ]
  },
  {
   "cell_type": "code",
   "execution_count": 5,
   "metadata": {},
   "outputs": [
    {
     "name": "stdout",
     "output_type": "stream",
     "text": [
      "[7, 5, 6, 4]\n"
     ]
    }
   ],
   "source": [
    "def yer_değiştirme(listem, pos1, pos2):\n",
    "  listem[pos1], listem[pos2] = listem[pos2], listem[pos1]\n",
    "  return listem\n",
    "\n",
    "listem = list(map(int, input(\"Listenin sayılarını giriniz: \").split()))\n",
    "pos1, pos2 = 0, -1\n",
    "\n",
    "print(yer_değiştirme(listem, pos1, pos2))"
   ]
  },
  {
   "cell_type": "code",
   "execution_count": null,
   "metadata": {},
   "outputs": [],
   "source": []
  }
 ],
 "metadata": {
  "interpreter": {
   "hash": "102296e92056703233172f32d1443698de791a2ed6ee02edd4a1639040ea0cb4"
  },
  "kernelspec": {
   "display_name": "Python 3.10.0 64-bit",
   "language": "python",
   "name": "python3"
  },
  "language_info": {
   "codemirror_mode": {
    "name": "ipython",
    "version": 3
   },
   "file_extension": ".py",
   "mimetype": "text/x-python",
   "name": "python",
   "nbconvert_exporter": "python",
   "pygments_lexer": "ipython3",
   "version": "3.10.0"
  },
  "orig_nbformat": 4
 },
 "nbformat": 4,
 "nbformat_minor": 2
}
