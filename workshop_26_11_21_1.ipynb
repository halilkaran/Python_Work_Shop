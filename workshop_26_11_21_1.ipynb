{
  "cells": [
    {
      "cell_type": "markdown",
      "metadata": {
        "id": "UO4WBUc0Wtse"
      },
      "source": [
        "                                Exercise-1\n",
        "\n",
        "Convert a Number to Base-2\n",
        "Create a function that returns a base-2 (binary) representation of a base-10 (decimal) string number. To convert is simple: ((2) means base-2 and (10) means base-10) 010101001(2) = 1 + 8 + 32 + 128.\n",
        "\n",
        "Going from right to left, the value of the most right bit is 1, now from that every bit to the left will be x2 the value, value of an 8 bit binary numbers are (256, 128, 64, 32, 16, 8, 4, 2, 1).\n",
        "\n",
        "Examples\n",
        "\n",
        "binary(1) ➞ \"1\"\n",
        "\n",
        "// 1 * 1 = 1\n",
        "\n",
        "binary(5) ➞ \"101\"\n",
        "\n",
        "// 1 * 1 + 1 * 4 = 5\n",
        "\n",
        "binary(10) ➞ \"1010\"\n",
        "\n",
        "// 1 * 2 + 1 * 8 = 10\n",
        "\n",
        "Note (Don't use bin() function)"
      ]
    },
    {
      "cell_type": "code",
      "execution_count": 1,
      "metadata": {
        "id": "2Ao5oWrUWpVY"
      },
      "outputs": [
        {
          "name": "stdout",
          "output_type": "stream",
          "text": [
            "12\n"
          ]
        }
      ],
      "source": [
        "#### ::::::::::::::::::::::::::::: BINARY TO DECIMAL  ::::::::::::::::::::::::::::::::::::\n",
        "\n",
        "binary =  list(input(\"Bitte ihre Binary Zahl eingegeben\"))\n",
        "summe = 0\n",
        "lenbinary = len(binary)\n",
        "for i in binary:\n",
        "    summe += int(i)*(2**(lenbinary-1))\n",
        "    lenbinary -= 1\n",
        "print(summe)\n",
        "\n",
        "\n"
      ]
    },
    {
      "cell_type": "code",
      "execution_count": 1,
      "metadata": {},
      "outputs": [
        {
          "data": {
            "text/plain": [
              "'1100'"
            ]
          },
          "execution_count": 1,
          "metadata": {},
          "output_type": "execute_result"
        }
      ],
      "source": [
        "#### ::::::::::::::::::::::::::::: DECIMAL TO BINARY ::::::::::::::::::::::::::::::::::::\n",
        "decimal = int(input(\"Bitte ihre Binary Zahl eingegeben\"))\n",
        "output = \"\"\n",
        "while decimal > 0:\n",
        "    output = \"{}{}\".format(decimal % 2, output)\n",
        "    decimal = decimal // 2\n",
        "print(output)"
      ]
    },
    {
      "cell_type": "markdown",
      "metadata": {
        "id": "0nPBCPa6WxKP"
      },
      "source": [
        "                              Exercise-2 \n",
        "Check if One Array can be Nested in Another\n",
        "\n",
        "Create a function that returns true if the first array can be nested inside the second.\n",
        "\n",
        "arr1 can be nested inside arr2 if:\n",
        "\n",
        "arr1's min is greater than arr2's min.\n",
        "\n",
        "arr1's max is less than arr2's max.\n",
        "\n",
        "Examples\n",
        "\n",
        "canNest([1, 2, 3, 4], [0, 6]) ➞ True\n",
        "\n",
        "canNest([3, 1], [4, 0]) ➞ True\n",
        "\n",
        "canNest([9, 9, 8], [8, 9]) ➞ False\n",
        "\n",
        "canNest([1, 2, 3, 4], [2, 3]) ➞ False\n",
        "\n",
        "[ ]\n"
      ]
    },
    {
      "cell_type": "code",
      "execution_count": 26,
      "metadata": {
        "id": "vSpMNTCpW3QQ"
      },
      "outputs": [
        {
          "name": "stdout",
          "output_type": "stream",
          "text": [
            "False\n"
          ]
        }
      ],
      "source": [
        "canNest = ([1, 2, 3, 4], [2, 3])\n",
        "first_min = []\n",
        "first_max = []\n",
        "if len(canNest) == 2 :\n",
        "    for i in canNest:\n",
        "        first_min.append(min(i))\n",
        "        first_max.append(max(i))\n",
        "if first_min[0] > first_min[1]:\n",
        "    if first_max[1] > first_max[0]:\n",
        "        print(\"True\")\n",
        "    else:\n",
        "        print(\"False\")\n",
        "else:\n",
        "    print(\"False\")\n"
      ]
    },
    {
      "cell_type": "markdown",
      "metadata": {
        "id": "f9mSIheVW3kw"
      },
      "source": [
        "                                    Exercise-3\n",
        "Move Capital Letters to the Front\n",
        "\n",
        "Create a function that moves all capital letters to the front of a word.\n",
        "\n",
        "Examples\n",
        "\n",
        "cap_to_front(\"hApPy\") ➞ \"APhpy\"\n",
        "\n",
        "cap_to_front(\"moveMENT\") ➞ \"MENTmove\"\n",
        "\n",
        "cap_to_front(\"shOrtCAKE\") ➞ \"OCAKEshrt\""
      ]
    },
    {
      "cell_type": "code",
      "execution_count": 27,
      "metadata": {
        "id": "m9ehWO0HW7f7"
      },
      "outputs": [
        {
          "name": "stdout",
          "output_type": "stream",
          "text": [
            "MENTmove\n"
          ]
        }
      ],
      "source": [
        "word = list(input(\"bitte ein wörter eingegen\"))\n",
        "listupper = []\n",
        "listlower = []\n",
        "\n",
        "for i in word:\n",
        "    if i.isupper():\n",
        "        listupper.append(i)\n",
        "    else:\n",
        "        listlower.append(i)\n",
        "print(\"\".join(listupper) + \"\".join(listlower))\n"
      ]
    },
    {
      "cell_type": "markdown",
      "metadata": {
        "id": "VIH8NS-1W7wl"
      },
      "source": [
        "                                  Exercise-4\n",
        "The Reverser!\n",
        "\n",
        "The \"Reverser\" takes a string as input and returns that string in reverse order, with the opposite case.\n",
        "\n",
        "Examples\n",
        "\n",
        "reverse(\"Hello World\") ➞ \"DLROw OLLEh\"\n",
        "\n",
        "reverse(\"ReVeRsE\") ➞ \"eSrEvEr\"\n",
        "\n",
        "reverse(\"Radar\") ➞ \"RADAr\"\n",
        "\n",
        "Notes\n",
        "\n",
        "There will be no punctuation in any of the test cases."
      ]
    },
    {
      "cell_type": "code",
      "execution_count": 30,
      "metadata": {
        "id": "Iuvqb85DXAbe"
      },
      "outputs": [
        {
          "name": "stdout",
          "output_type": "stream",
          "text": [
            "DLROw OLLEh\n"
          ]
        }
      ],
      "source": [
        "word = list(input(\"bitte ein wörter eingegen\"))\n",
        "liste = []\n",
        "\n",
        "for i in word:\n",
        "    if i.isupper():\n",
        "        liste.append(i.lower())\n",
        "    else:\n",
        "        liste.append(i.upper())\n",
        "liste.reverse()\n",
        "print(\"\".join(liste) )\n"
      ]
    },
    {
      "cell_type": "markdown",
      "metadata": {
        "id": "bgeGq8lBXAxu"
      },
      "source": [
        "                                    Exercise-5\n",
        "Create a function that retrieves every number that is strictly larger than every number that follows it.\n",
        "Examples\n",
        "\n",
        "[3, 13, 11, 2, 1, 9, 5] ➞ [13, 11, 9, 5]\n",
        "\n",
        "13 is larger than all numbers to its right, etc.\n",
        "\n",
        "[5, 5, 5, 5, 5, 5] ➞ [5]\n",
        "\n",
        "Must be strictly larger.\n",
        "\n",
        "Always include the last number.\n",
        "\n",
        "[5, 9, 8, 7] ➞ [9, 8, 7]\n",
        "\n",
        "Notes\n",
        "\n",
        "The last number in an array is trivially strictly larger than all numbers that follow it (no numbers follow it)."
      ]
    },
    {
      "cell_type": "code",
      "execution_count": 76,
      "metadata": {
        "id": "LEaGU0DcXBul"
      },
      "outputs": [
        {
          "name": "stdout",
          "output_type": "stream",
          "text": [
            "[5]\n"
          ]
        }
      ],
      "source": [
        "liste1 = [5, 5, 5, 5, 5, 5]\n",
        "liste2 = []\n",
        "while len(liste1) !=0:\n",
        "    liste2.append(max(liste1))\n",
        "    liste1 = liste1[liste1.index(int(max(liste1)))+1: ]\n",
        "print(list(set(liste2)))\n"
      ]
    },
    {
      "cell_type": "markdown",
      "metadata": {
        "id": "ydJC7lTMXCH1"
      },
      "source": [
        "                                    Exercise - 6\n",
        "C * ns * r * d Str * ngs\n",
        "\n",
        "Someone has attempted to censor my strings by replacing every vowel with a *, l*k* th*s. Luckily, I've been able to find the vowels that were removed.\n",
        "\n",
        "Given a censored string and a string of the censored vowels, return the original uncensored string.\n",
        "\n",
        "Example\n",
        "\n",
        "uncensor(\"Wh * r * d * d my v * w * ls g * ?\", \"eeioeo\") ➞ \"Where did my vowels go?\"\n",
        "\n",
        "uncensor(\"abcd\", \"\") ➞ \"abcd\"\n",
        "\n",
        "uncensor(\"* PP * RC * S * \", \"UEAE\") ➞ \"UPPERCASE\"\n",
        "\n",
        "Notes\n",
        "\n",
        "The vowels are given in the correct order.\n",
        "\n",
        "The number of vowels will match the number of * characters in the censored string."
      ]
    },
    {
      "cell_type": "code",
      "execution_count": 89,
      "metadata": {
        "id": "MoUpvXSEXFmL"
      },
      "outputs": [
        {
          "data": {
            "text/plain": [
              "'UPPERCASE'"
            ]
          },
          "execution_count": 89,
          "metadata": {},
          "output_type": "execute_result"
        }
      ],
      "source": [
        "uncensor = [\"*PP*RC*S*\", \"UEAE\"]\n",
        "wörter = list(uncensor[0])\n",
        "konige = list(uncensor[1])\n",
        "rechtschreiben = []\n",
        "count1 = 0\n",
        "for i in wörter:\n",
        "    if i== \"*\":\n",
        "        rechtschreiben.append(konige[count1])\n",
        "        count1 += 1\n",
        "    else:\n",
        "        rechtschreiben.append(i)\n",
        "\"\".join(rechtschreiben)\n",
        "\n"
      ]
    },
    {
      "cell_type": "markdown",
      "metadata": {
        "id": "5HeJI99aXF2r"
      },
      "source": [
        "                                    Exercise -7\n",
        "                                    \n",
        "There is a string, s , of lowercase English letters that is repeated infinitely many times. Given an integer, n , find and print the number of letter a's in the first n letters of the infinite string.\n",
        "\n",
        "Example\n",
        "s = \"abcac\"\n",
        "\n",
        "n = 10\n",
        "\n",
        "The substring we consider is \"abcacabcac\", the first 10 characters of the infinite string. There are 4  occurrences of a in the substring."
      ]
    },
    {
      "cell_type": "code",
      "execution_count": 90,
      "metadata": {
        "id": "M7_acFlkXPLe"
      },
      "outputs": [
        {
          "name": "stdout",
          "output_type": "stream",
          "text": [
            "abcacabcac\n"
          ]
        }
      ],
      "source": [
        "beispiel = list(\"abcac\")\n",
        "substring = []\n",
        "wiederholungen = int(input(\"Bitte die Anzahl der Wiederholungen eingegeben \"))\n",
        "a = wiederholungen // len(beispiel)\n",
        "b = wiederholungen % len(beispiel)\n",
        "[substring.append(beispiel[i]) for i in range(0, b)]\n",
        "print(a*\"\".join(beispiel) + \"\".join(substring)) \n"
      ]
    },
    {
      "cell_type": "markdown",
      "metadata": {
        "id": "G6s3c68YXPdV"
      },
      "source": [
        "                                Exercise -8\n",
        "Nearest Vowel\n",
        "\n",
        "Given a letter, created a function which returns the nearest vowel to the letter. If two vowels are equidistant to the given letter, return the earlier vowel.\n",
        "\n",
        "Examples\n",
        "\n",
        "nearestVowel(\"b\") ➞ \"a\"\n",
        "\n",
        "nearestVowel(\"s\") ➞ \"u\"\n",
        "\n",
        "nearestVowel(\"c\") ➞ \"a\"\n",
        "\n",
        "nearestVowel(\"i\") ➞ \"i\"\n",
        "\n",
        "Notes\n",
        "\n",
        "All letters will be given in lowercase.\n",
        "\n",
        "There will be no alphabet wrapping involved, meaning the closest vowel to \"z\" should return \"u\", not \"a\"."
      ]
    },
    {
      "cell_type": "code",
      "execution_count": 99,
      "metadata": {},
      "outputs": [
        {
          "data": {
            "text/plain": [
              "'u'"
            ]
          },
          "execution_count": 99,
          "metadata": {},
          "output_type": "execute_result"
        }
      ],
      "source": [
        "\n",
        "vowel = {'a': 97, 'e': 101, 'i': 105, 'o': 111, 'u': 117}\n",
        "nears = ord(input(\"geben mir ein Buchstabe\"))\n",
        "keyss = 100\n",
        "vowel1 = 0\n",
        "for i in vowel.values():\n",
        "    if abs(nears-i)<keyss:\n",
        "        keyss = abs(nears-i)\n",
        "        vowel1 = i\n",
        "print(chr(vowel1))\n",
        "\n"
      ]
    }
  ],
  "metadata": {
    "colab": {
      "name": "workshop-26.11.ipynb",
      "provenance": []
    },
    "kernelspec": {
      "display_name": "Python 3",
      "name": "python3"
    },
    "language_info": {
      "codemirror_mode": {
        "name": "ipython",
        "version": 3
      },
      "file_extension": ".py",
      "mimetype": "text/x-python",
      "name": "python",
      "nbconvert_exporter": "python",
      "pygments_lexer": "ipython3",
      "version": "3.10.0"
    }
  },
  "nbformat": 4,
  "nbformat_minor": 0
}
